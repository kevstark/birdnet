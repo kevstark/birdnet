{
 "cells": [
  {
   "cell_type": "markdown",
   "metadata": {},
   "source": [
    "# Explore BirdNET logs"
   ]
  },
  {
   "cell_type": "code",
   "execution_count": 23,
   "metadata": {},
   "outputs": [],
   "source": [
    "import json\n",
    "from pathlib import Path\n",
    "from glob import glob\n",
    "from tqdm import tqdm\n",
    "import pandas\n",
    "from datetime import datetime\n",
    "import dateutil.parser\n",
    "import calplot"
   ]
  },
  {
   "cell_type": "code",
   "execution_count": 2,
   "metadata": {},
   "outputs": [
    {
     "name": "stdout",
     "output_type": "stream",
     "text": [
      "log_paths: 232\n"
     ]
    }
   ],
   "source": [
    "log_paths = glob(\"logs/*\", recursive=True)\n",
    "print(\"log_paths:\", len(log_paths))"
   ]
  },
  {
   "cell_type": "code",
   "execution_count": 3,
   "metadata": {},
   "outputs": [
    {
     "name": "stderr",
     "output_type": "stream",
     "text": [
      "100%|██████████| 232/232 [00:31<00:00,  7.43it/s]"
     ]
    },
    {
     "name": "stdout",
     "output_type": "stream",
     "text": [
      "log: 3829641 {'msg': 'success', 'results': [['Turdus merula_Eurasian Blackbird', 0.0501], ['Pandion haliaetus_Osprey', 0.0443], ['Fulica atra_Eurasian Coot', 0.0429]], 'filename': '20230505T235955+1000', 'skipped': 0, 'oldest': '20230505T235955+1000', 'timestamp': '2023-05-05T23:59:55+10:00', 'hour_of_day': '23'}\n"
     ]
    },
    {
     "name": "stderr",
     "output_type": "stream",
     "text": [
      "\n"
     ]
    }
   ],
   "source": [
    "log = []\n",
    "for log_path in tqdm(log_paths):\n",
    "    try:\n",
    "        lines = open(log_path).readlines()\n",
    "        log += [json.loads(line) for line in lines]\n",
    "    except:\n",
    "        print(\"failed:\", log_path)\n",
    "\n",
    "print(\"log:\", len(log), log[0])"
   ]
  },
  {
   "cell_type": "code",
   "execution_count": 4,
   "metadata": {},
   "outputs": [],
   "source": [
    "# Convert to df\n",
    "raw = pandas.DataFrame.from_records(log)\n",
    "raw['timestamp'] = pandas.to_datetime(raw['timestamp'])"
   ]
  },
  {
   "cell_type": "code",
   "execution_count": 5,
   "metadata": {},
   "outputs": [],
   "source": [
    "# Cleanup\n",
    "raw = raw[df['msg'] == 'success'].copy()\n",
    "raw = raw.explode(['results'])"
   ]
  },
  {
   "cell_type": "code",
   "execution_count": 6,
   "metadata": {},
   "outputs": [
    {
     "data": {
      "text/html": [
       "<div>\n",
       "<style scoped>\n",
       "    .dataframe tbody tr th:only-of-type {\n",
       "        vertical-align: middle;\n",
       "    }\n",
       "\n",
       "    .dataframe tbody tr th {\n",
       "        vertical-align: top;\n",
       "    }\n",
       "\n",
       "    .dataframe thead th {\n",
       "        text-align: right;\n",
       "    }\n",
       "</style>\n",
       "<table border=\"1\" class=\"dataframe\">\n",
       "  <thead>\n",
       "    <tr style=\"text-align: right;\">\n",
       "      <th></th>\n",
       "      <th>skipped</th>\n",
       "      <th>timestamp</th>\n",
       "      <th>hour_of_day</th>\n",
       "      <th>confidence</th>\n",
       "      <th>species</th>\n",
       "      <th>common</th>\n",
       "    </tr>\n",
       "  </thead>\n",
       "  <tbody>\n",
       "    <tr>\n",
       "      <th>0</th>\n",
       "      <td>0</td>\n",
       "      <td>2023-05-05 23:59:55+10:00</td>\n",
       "      <td>23</td>\n",
       "      <td>0.0501</td>\n",
       "      <td>Turdus merula</td>\n",
       "      <td>Eurasian Blackbird</td>\n",
       "    </tr>\n",
       "    <tr>\n",
       "      <th>0</th>\n",
       "      <td>0</td>\n",
       "      <td>2023-05-05 23:59:55+10:00</td>\n",
       "      <td>23</td>\n",
       "      <td>0.0443</td>\n",
       "      <td>Pandion haliaetus</td>\n",
       "      <td>Osprey</td>\n",
       "    </tr>\n",
       "    <tr>\n",
       "      <th>0</th>\n",
       "      <td>0</td>\n",
       "      <td>2023-05-05 23:59:55+10:00</td>\n",
       "      <td>23</td>\n",
       "      <td>0.0429</td>\n",
       "      <td>Fulica atra</td>\n",
       "      <td>Eurasian Coot</td>\n",
       "    </tr>\n",
       "    <tr>\n",
       "      <th>1</th>\n",
       "      <td>0</td>\n",
       "      <td>2023-05-06 00:00:00+10:00</td>\n",
       "      <td>00</td>\n",
       "      <td>0.0532</td>\n",
       "      <td>Turdus merula</td>\n",
       "      <td>Eurasian Blackbird</td>\n",
       "    </tr>\n",
       "    <tr>\n",
       "      <th>1</th>\n",
       "      <td>0</td>\n",
       "      <td>2023-05-06 00:00:00+10:00</td>\n",
       "      <td>00</td>\n",
       "      <td>0.0520</td>\n",
       "      <td>Pandion haliaetus</td>\n",
       "      <td>Osprey</td>\n",
       "    </tr>\n",
       "    <tr>\n",
       "      <th>...</th>\n",
       "      <td>...</td>\n",
       "      <td>...</td>\n",
       "      <td>...</td>\n",
       "      <td>...</td>\n",
       "      <td>...</td>\n",
       "      <td>...</td>\n",
       "    </tr>\n",
       "    <tr>\n",
       "      <th>3829639</th>\n",
       "      <td>0</td>\n",
       "      <td>2022-12-31 23:59:39+10:00</td>\n",
       "      <td>23</td>\n",
       "      <td>0.0456</td>\n",
       "      <td>Falco peregrinus</td>\n",
       "      <td>Peregrine Falcon</td>\n",
       "    </tr>\n",
       "    <tr>\n",
       "      <th>3829639</th>\n",
       "      <td>0</td>\n",
       "      <td>2022-12-31 23:59:39+10:00</td>\n",
       "      <td>23</td>\n",
       "      <td>0.0365</td>\n",
       "      <td>Tyto alba</td>\n",
       "      <td>Barn Owl</td>\n",
       "    </tr>\n",
       "    <tr>\n",
       "      <th>3829640</th>\n",
       "      <td>0</td>\n",
       "      <td>2022-12-31 23:59:44+10:00</td>\n",
       "      <td>23</td>\n",
       "      <td>0.0519</td>\n",
       "      <td>Turdus merula</td>\n",
       "      <td>Eurasian Blackbird</td>\n",
       "    </tr>\n",
       "    <tr>\n",
       "      <th>3829640</th>\n",
       "      <td>0</td>\n",
       "      <td>2022-12-31 23:59:44+10:00</td>\n",
       "      <td>23</td>\n",
       "      <td>0.0480</td>\n",
       "      <td>Pandion haliaetus</td>\n",
       "      <td>Osprey</td>\n",
       "    </tr>\n",
       "    <tr>\n",
       "      <th>3829640</th>\n",
       "      <td>0</td>\n",
       "      <td>2022-12-31 23:59:44+10:00</td>\n",
       "      <td>23</td>\n",
       "      <td>0.0446</td>\n",
       "      <td>Falco peregrinus</td>\n",
       "      <td>Peregrine Falcon</td>\n",
       "    </tr>\n",
       "  </tbody>\n",
       "</table>\n",
       "<p>11488920 rows × 6 columns</p>\n",
       "</div>"
      ],
      "text/plain": [
       "         skipped                 timestamp hour_of_day  confidence  \\\n",
       "0              0 2023-05-05 23:59:55+10:00          23      0.0501   \n",
       "0              0 2023-05-05 23:59:55+10:00          23      0.0443   \n",
       "0              0 2023-05-05 23:59:55+10:00          23      0.0429   \n",
       "1              0 2023-05-06 00:00:00+10:00          00      0.0532   \n",
       "1              0 2023-05-06 00:00:00+10:00          00      0.0520   \n",
       "...          ...                       ...         ...         ...   \n",
       "3829639        0 2022-12-31 23:59:39+10:00          23      0.0456   \n",
       "3829639        0 2022-12-31 23:59:39+10:00          23      0.0365   \n",
       "3829640        0 2022-12-31 23:59:44+10:00          23      0.0519   \n",
       "3829640        0 2022-12-31 23:59:44+10:00          23      0.0480   \n",
       "3829640        0 2022-12-31 23:59:44+10:00          23      0.0446   \n",
       "\n",
       "                   species              common  \n",
       "0            Turdus merula  Eurasian Blackbird  \n",
       "0        Pandion haliaetus              Osprey  \n",
       "0              Fulica atra       Eurasian Coot  \n",
       "1            Turdus merula  Eurasian Blackbird  \n",
       "1        Pandion haliaetus              Osprey  \n",
       "...                    ...                 ...  \n",
       "3829639   Falco peregrinus    Peregrine Falcon  \n",
       "3829639          Tyto alba            Barn Owl  \n",
       "3829640      Turdus merula  Eurasian Blackbird  \n",
       "3829640  Pandion haliaetus              Osprey  \n",
       "3829640   Falco peregrinus    Peregrine Falcon  \n",
       "\n",
       "[11488920 rows x 6 columns]"
      ]
     },
     "execution_count": 6,
     "metadata": {},
     "output_type": "execute_result"
    }
   ],
   "source": [
    "raw[['name','confidence']] = pandas.DataFrame(raw.results.tolist(), index=raw.index)\n",
    "raw[['species', 'common']] = raw['name'].str.split(\"_\", expand = True)\n",
    "raw.drop(columns=['msg', 'results', 'filename', 'oldest', 'name'], inplace=True)\n",
    "raw"
   ]
  },
  {
   "cell_type": "code",
   "execution_count": 18,
   "metadata": {},
   "outputs": [
    {
     "data": {
      "text/plain": [
       "<Axes: ylabel='common'>"
      ]
     },
     "execution_count": 18,
     "metadata": {},
     "output_type": "execute_result"
    },
    {
     "data": {
      "image/png": "[encoded data removed]",
      "text/plain": [
       "<Figure size 640x480 with 1 Axes>"
      ]
     },
     "metadata": {},
     "output_type": "display_data"
    }
   ],
   "source": [
    "df = raw.query('confidence > 0.3')\n",
    "\n",
    "# Plot top species\n",
    "df.common.value_counts().nlargest(20).plot(kind='barh')"
   ]
  },
  {
   "cell_type": "code",
   "execution_count": 20,
   "metadata": {},
   "outputs": [
    {
     "data": {
      "text/html": [
       "<div>\n",
       "<style scoped>\n",
       "    .dataframe tbody tr th:only-of-type {\n",
       "        vertical-align: middle;\n",
       "    }\n",
       "\n",
       "    .dataframe tbody tr th {\n",
       "        vertical-align: top;\n",
       "    }\n",
       "\n",
       "    .dataframe thead th {\n",
       "        text-align: right;\n",
       "    }\n",
       "</style>\n",
       "<table border=\"1\" class=\"dataframe\">\n",
       "  <thead>\n",
       "    <tr style=\"text-align: right;\">\n",
       "      <th></th>\n",
       "      <th>skipped</th>\n",
       "      <th>timestamp</th>\n",
       "      <th>hour_of_day</th>\n",
       "      <th>confidence</th>\n",
       "      <th>species</th>\n",
       "      <th>common</th>\n",
       "    </tr>\n",
       "  </thead>\n",
       "  <tbody>\n",
       "    <tr>\n",
       "      <th>4130</th>\n",
       "      <td>0</td>\n",
       "      <td>2023-05-06 05:44:15+10:00</td>\n",
       "      <td>05</td>\n",
       "      <td>0.4268</td>\n",
       "      <td>Cracticus torquatus</td>\n",
       "      <td>Gray Butcherbird</td>\n",
       "    </tr>\n",
       "    <tr>\n",
       "      <th>4131</th>\n",
       "      <td>0</td>\n",
       "      <td>2023-05-06 05:44:20+10:00</td>\n",
       "      <td>05</td>\n",
       "      <td>0.4531</td>\n",
       "      <td>Cracticus torquatus</td>\n",
       "      <td>Gray Butcherbird</td>\n",
       "    </tr>\n",
       "    <tr>\n",
       "      <th>4213</th>\n",
       "      <td>0</td>\n",
       "      <td>2023-05-06 05:51:11+10:00</td>\n",
       "      <td>05</td>\n",
       "      <td>0.8287</td>\n",
       "      <td>Rhipidura leucophrys</td>\n",
       "      <td>Willie-wagtail</td>\n",
       "    </tr>\n",
       "    <tr>\n",
       "      <th>4214</th>\n",
       "      <td>0</td>\n",
       "      <td>2023-05-06 05:51:16+10:00</td>\n",
       "      <td>05</td>\n",
       "      <td>0.7083</td>\n",
       "      <td>Rhipidura leucophrys</td>\n",
       "      <td>Willie-wagtail</td>\n",
       "    </tr>\n",
       "    <tr>\n",
       "      <th>4216</th>\n",
       "      <td>0</td>\n",
       "      <td>2023-05-06 05:51:26+10:00</td>\n",
       "      <td>05</td>\n",
       "      <td>0.7362</td>\n",
       "      <td>Rhipidura leucophrys</td>\n",
       "      <td>Willie-wagtail</td>\n",
       "    </tr>\n",
       "    <tr>\n",
       "      <th>...</th>\n",
       "      <td>...</td>\n",
       "      <td>...</td>\n",
       "      <td>...</td>\n",
       "      <td>...</td>\n",
       "      <td>...</td>\n",
       "      <td>...</td>\n",
       "    </tr>\n",
       "    <tr>\n",
       "      <th>3826096</th>\n",
       "      <td>0</td>\n",
       "      <td>2022-12-31 19:01:12+10:00</td>\n",
       "      <td>19</td>\n",
       "      <td>0.3977</td>\n",
       "      <td>Rhipidura leucophrys</td>\n",
       "      <td>Willie-wagtail</td>\n",
       "    </tr>\n",
       "    <tr>\n",
       "      <th>3826185</th>\n",
       "      <td>0</td>\n",
       "      <td>2022-12-31 19:08:37+10:00</td>\n",
       "      <td>19</td>\n",
       "      <td>0.4616</td>\n",
       "      <td>Rhipidura leucophrys</td>\n",
       "      <td>Willie-wagtail</td>\n",
       "    </tr>\n",
       "    <tr>\n",
       "      <th>3826187</th>\n",
       "      <td>0</td>\n",
       "      <td>2022-12-31 19:08:47+10:00</td>\n",
       "      <td>19</td>\n",
       "      <td>0.3477</td>\n",
       "      <td>Rhipidura leucophrys</td>\n",
       "      <td>Willie-wagtail</td>\n",
       "    </tr>\n",
       "    <tr>\n",
       "      <th>3826252</th>\n",
       "      <td>0</td>\n",
       "      <td>2022-12-31 19:14:17+10:00</td>\n",
       "      <td>19</td>\n",
       "      <td>0.3442</td>\n",
       "      <td>Chrysococcyx basalis</td>\n",
       "      <td>Horsfield's Bronze-Cuckoo</td>\n",
       "    </tr>\n",
       "    <tr>\n",
       "      <th>3826283</th>\n",
       "      <td>0</td>\n",
       "      <td>2022-12-31 19:16:52+10:00</td>\n",
       "      <td>19</td>\n",
       "      <td>0.3285</td>\n",
       "      <td>Rhipidura leucophrys</td>\n",
       "      <td>Willie-wagtail</td>\n",
       "    </tr>\n",
       "  </tbody>\n",
       "</table>\n",
       "<p>319663 rows × 6 columns</p>\n",
       "</div>"
      ],
      "text/plain": [
       "         skipped                 timestamp hour_of_day  confidence  \\\n",
       "4130           0 2023-05-06 05:44:15+10:00          05      0.4268   \n",
       "4131           0 2023-05-06 05:44:20+10:00          05      0.4531   \n",
       "4213           0 2023-05-06 05:51:11+10:00          05      0.8287   \n",
       "4214           0 2023-05-06 05:51:16+10:00          05      0.7083   \n",
       "4216           0 2023-05-06 05:51:26+10:00          05      0.7362   \n",
       "...          ...                       ...         ...         ...   \n",
       "3826096        0 2022-12-31 19:01:12+10:00          19      0.3977   \n",
       "3826185        0 2022-12-31 19:08:37+10:00          19      0.4616   \n",
       "3826187        0 2022-12-31 19:08:47+10:00          19      0.3477   \n",
       "3826252        0 2022-12-31 19:14:17+10:00          19      0.3442   \n",
       "3826283        0 2022-12-31 19:16:52+10:00          19      0.3285   \n",
       "\n",
       "                      species                     common  \n",
       "4130      Cracticus torquatus           Gray Butcherbird  \n",
       "4131      Cracticus torquatus           Gray Butcherbird  \n",
       "4213     Rhipidura leucophrys             Willie-wagtail  \n",
       "4214     Rhipidura leucophrys             Willie-wagtail  \n",
       "4216     Rhipidura leucophrys             Willie-wagtail  \n",
       "...                       ...                        ...  \n",
       "3826096  Rhipidura leucophrys             Willie-wagtail  \n",
       "3826185  Rhipidura leucophrys             Willie-wagtail  \n",
       "3826187  Rhipidura leucophrys             Willie-wagtail  \n",
       "3826252  Chrysococcyx basalis  Horsfield's Bronze-Cuckoo  \n",
       "3826283  Rhipidura leucophrys             Willie-wagtail  \n",
       "\n",
       "[319663 rows x 6 columns]"
      ]
     },
     "execution_count": 20,
     "metadata": {},
     "output_type": "execute_result"
    }
   ],
   "source": [
    "df"
   ]
  },
  {
   "cell_type": "code",
   "execution_count": 21,
   "metadata": {},
   "outputs": [],
   "source": [
    "df.set_index('timestamp', inplace=True)\n",
    "lorikeet = df.query('common == \"Rainbow Lorikeet\"')\n",
    "calplot.calplot(data = lorikeet['SALES'],how = 'sum', cmap = 'Reds', figsize = (16, 8), suptitle = \"Total Sales by Month and Year\")\n"
   ]
  },
  {
   "cell_type": "markdown",
   "metadata": {},
   "source": [
    "https://gist.github.com/phobson/41b41bdd157a2bcf6e14"
   ]
  }
 ],
 "metadata": {
  "kernelspec": {
   "display_name": ".env",
   "language": "python",
   "name": "python3"
  },
  "language_info": {
   "codemirror_mode": {
    "name": "ipython",
    "version": 3
   },
   "file_extension": ".py",
   "mimetype": "text/x-python",
   "name": "python",
   "nbconvert_exporter": "python",
   "pygments_lexer": "ipython3",
   "version": "3.10.12"
  },
  "orig_nbformat": 4
 },
 "nbformat": 4,
 "nbformat_minor": 2
}

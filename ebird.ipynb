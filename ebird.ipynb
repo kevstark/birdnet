{
 "cells": [
  {
   "cell_type": "markdown",
   "metadata": {},
   "source": [
    "Explore the eBird API\n",
    "\n",
    "- https://documenter.getpostman.com/view/664302/S1ENwy59\n",
    "- https://pypi.org/project/ebird-api/\n",
    "- https://github.com/ProjectBabbler/ebird-api"
   ]
  },
  {
   "cell_type": "code",
   "execution_count": 1,
   "metadata": {},
   "outputs": [],
   "source": [
    "from dotenv import load_dotenv\n",
    "from ebird.api import get_observations\n",
    "import os\n",
    "import pandas\n",
    "import json\n",
    "from glob import glob\n",
    "from pathlib import Path\n",
    "from tqdm import tqdm \n",
    "\n",
    "load_dotenv()  # take environment variables from .env.\n",
    "api_key = os.environ['EBIRD_API']"
   ]
  },
  {
   "cell_type": "code",
   "execution_count": 2,
   "metadata": {},
   "outputs": [],
   "source": [
    "records = get_observations(api_key, 'L227544', back=7)\n",
    "# records"
   ]
  },
  {
   "cell_type": "code",
   "execution_count": 3,
   "metadata": {},
   "outputs": [],
   "source": [
    "from ebird.api import get_taxonomy, get_taxonomy_forms, get_taxonomy_versions\n",
    "\n",
    "# Get all the species in the eBird taxonomy.\n",
    "taxonomy = get_taxonomy(api_key)\n",
    "taxonomy = pandas.DataFrame.from_records(taxonomy)\n",
    "# taxonomy"
   ]
  },
  {
   "cell_type": "code",
   "execution_count": 4,
   "metadata": {},
   "outputs": [],
   "source": [
    "def load_birdnet_log(path, confidence_threshold: float = 0.25) -> pandas.DataFrame:\n",
    "    lines = [json.loads(s) for s in open(path)]\n",
    "    raw = pandas.DataFrame.from_records(lines)\n",
    "\n",
    "    raw = raw[raw['msg'] == 'success'].copy()\n",
    "    raw = raw.explode(['results'])\n",
    "    raw['timestamp'] = pandas.to_datetime(raw['timestamp'])\n",
    "\n",
    "    raw[['name','confidence']] = pandas.DataFrame(raw.results.tolist(), index=raw.index)\n",
    "    raw[['species', 'common']] = raw['name'].str.split(\"_\", expand = True)\n",
    "    raw.drop(columns=['msg', 'results', 'filename', 'oldest', 'name', 'skipped', 'hour_of_day'], inplace=True)\n",
    "    return raw.query('confidence > @confidence_threshold', engine='python').copy()\n"
   ]
  },
  {
   "cell_type": "code",
   "execution_count": 5,
   "metadata": {},
   "outputs": [],
   "source": [
    "def generate_ebird_record(df, path, location):\n",
    "    species_by_minute = (\n",
    "        df\n",
    "        .assign(timestamp=lambda r: r['timestamp'].dt.round('min'))\n",
    "        .groupby(by=['timestamp', 'common'])\n",
    "        .agg({'species': 'count', 'confidence': 'max'})\n",
    "        .reset_index()\n",
    "        .rename(columns={0: \"calls\"})\n",
    "    )\n",
    "    species_by_minute\n",
    "\n",
    "    obs = []\n",
    "    for row in species_by_minute.itertuples():\n",
    "        row = row._asdict()\n",
    "        assert row['common'] in list(taxonomy.comName.values)\n",
    "        \n",
    "        common = row['common']\n",
    "        if common ==\"Willie-wagtail\": common = \"Willie Wagtail\"\n",
    "        if common == \"Eurasian Blackbird\": common = \"Common Blackbird\"\n",
    "        if \"Gray\" in common: common = common.replace(\"Gray\", \"Grey\")\n",
    "\n",
    "        obs.append([\n",
    "            common,                                     # Common/scientific Name\n",
    "            \"\",                                         # Genus\n",
    "            \"\",                                         # Species\n",
    "            \"+\",                                        # Species Count\n",
    "            \"\",                                         # Species Comments\n",
    "            location,                                   # Location Name\n",
    "            \"\",                                         # latitude\n",
    "            \"\",                                         # longitude\n",
    "            row['timestamp'].strftime('%m/%d/%Y'),      # Observation date\n",
    "            row['timestamp'].strftime('%H:%M'),         # Start time\n",
    "            \"\",                                         # State\n",
    "            \"AU\",                                       # Country\n",
    "            \"casual\",                                   # Protocol\n",
    "            \"\",                                         # Number of observers\n",
    "            \"1\",                                        # Duration (minutes)\n",
    "            \"Y\",                                        # All observations?\n",
    "            \"\",                                         # Distance covered\n",
    "            \"\",                                         # Area covered\n",
    "            f\"{row['species']} BirdNET calls; {row['confidence']} confidence\", # Comments\n",
    "        ])\n",
    "\n",
    "    if len(obs):\n",
    "        Path(path).parent.mkdir(exist_ok=True)\n",
    "        with open(path, 'wt') as fp:\n",
    "            for line in obs:\n",
    "                fp.write(','.join(line) + '\\n')\n"
   ]
  },
  {
   "cell_type": "code",
   "execution_count": 6,
   "metadata": {},
   "outputs": [],
   "source": [
    "location = os.environ['EBIRD_LOCATION']"
   ]
  },
  {
   "cell_type": "code",
   "execution_count": 7,
   "metadata": {},
   "outputs": [
    {
     "name": "stderr",
     "output_type": "stream",
     "text": [
      "100%|██████████| 251/251 [02:30<00:00,  1.67it/s]\n"
     ]
    }
   ],
   "source": [
    "import shutil\n",
    "shutil.rmtree('ebird')\n",
    "for logpath in tqdm(glob(\"logs/*\")):\n",
    "    raw = load_birdnet_log(logpath, confidence_threshold=0.5)\n",
    "    csvpath = logpath.replace(\"logs/\", \"ebird/\") + \".csv\"\n",
    "    generate_ebird_record(raw, csvpath, location)\n",
    "    "
   ]
  }
 ],
 "metadata": {
  "kernelspec": {
   "display_name": "py38",
   "language": "python",
   "name": "python3"
  },
  "language_info": {
   "codemirror_mode": {
    "name": "ipython",
    "version": 3
   },
   "file_extension": ".py",
   "mimetype": "text/x-python",
   "name": "python",
   "nbconvert_exporter": "python",
   "pygments_lexer": "ipython3",
   "version": "3.8.16"
  },
  "orig_nbformat": 4
 },
 "nbformat": 4,
 "nbformat_minor": 2
}
